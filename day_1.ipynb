{
 "cells": [
  {
   "cell_type": "markdown",
   "id": "d257c20b-6822-40d5-9968-bdefe19f90bb",
   "metadata": {},
   "source": [
    "print(\"python programming \")"
   ]
  },
  {
   "cell_type": "markdown",
   "id": "207883c6-4a8f-4833-b164-28364e07d4d1",
   "metadata": {},
   "source": [
    "#control + enter \n"
   ]
  },
  {
   "cell_type": "markdown",
   "id": "44d937be-f373-427b-a598-9610daab2ba2",
   "metadata": {},
   "source": [
    "# first_heading\n",
    "## second_heading\n",
    "hello k xa\n"
   ]
  },
  {
   "cell_type": "code",
   "execution_count": null,
   "id": "d29e2d8a-d703-48ff-ae7a-be4de0676c2d",
   "metadata": {},
   "outputs": [],
   "source": [
    "#input output\n",
    "#values and variable\n",
    "# data types\n",
    "#operators\n",
    "#if-else\n",
    "#loops"
   ]
  },
  {
   "cell_type": "code",
   "execution_count": 38,
   "id": "d94c9c6a-5b14-4f94-ab39-07a735f6fe67",
   "metadata": {},
   "outputs": [
    {
     "name": "stdout",
     "output_type": "stream",
     "text": [
      "python programming\n"
     ]
    }
   ],
   "source": [
    "#input output\n",
    "print('python programming')"
   ]
  },
  {
   "cell_type": "code",
   "execution_count": 42,
   "id": "014bb64d-a6d1-4407-bf82-15b23419c4a1",
   "metadata": {},
   "outputs": [
    {
     "name": "stdout",
     "output_type": "stream",
     "text": [
      "30\n"
     ]
    }
   ],
   "source": [
    "a=10\n",
    "b=20\n",
    "sum=a+b\n",
    "print(sum)"
   ]
  },
  {
   "cell_type": "code",
   "execution_count": 53,
   "id": "5df77d19-51be-49ce-a6db-3e45cd87ccd3",
   "metadata": {},
   "outputs": [
    {
     "name": "stdin",
     "output_type": "stream",
     "text": [
      "enter a 1st number  1\n",
      "enter a second number  2\n"
     ]
    },
    {
     "name": "stdout",
     "output_type": "stream",
     "text": [
      "the sum is  3\n"
     ]
    }
   ],
   "source": [
    "a =int(input(\"enter a 1st number \"))\n",
    "b =int(input(\"enter a second number \"))\n",
    "sum=a+b\n",
    "print(\"the sum is \" ,sum)"
   ]
  },
  {
   "cell_type": "code",
   "execution_count": 56,
   "id": "704ff520-22a1-47d0-91fc-967c1779eb13",
   "metadata": {},
   "outputs": [
    {
     "name": "stdin",
     "output_type": "stream",
     "text": [
      "enter your roll no  20\n"
     ]
    },
    {
     "data": {
      "text/plain": [
       "str"
      ]
     },
     "execution_count": 56,
     "metadata": {},
     "output_type": "execute_result"
    }
   ],
   "source": [
    "roll=input(\"enter your roll no \")\n",
    "type(roll)"
   ]
  }
 ],
 "metadata": {
  "kernelspec": {
   "display_name": "Python 3 (ipykernel)",
   "language": "python",
   "name": "python3"
  },
  "language_info": {
   "codemirror_mode": {
    "name": "ipython",
    "version": 3
   },
   "file_extension": ".py",
   "mimetype": "text/x-python",
   "name": "python",
   "nbconvert_exporter": "python",
   "pygments_lexer": "ipython3",
   "version": "3.12.4"
  }
 },
 "nbformat": 4,
 "nbformat_minor": 5
}
