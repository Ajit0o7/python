{
 "cells": [
  {
   "cell_type": "markdown",
   "id": "08908751",
   "metadata": {},
   "source": [
    "# filehandling\n",
    "## mode \n",
    "       \":  read\"   \n",
    "       \": write \" \n",
    "       \": append-exist before content \"\n",
    "        \": rb(read binary) \" \n",
    "        \":wb\""
   ]
  },
  {
   "cell_type": "markdown",
   "id": "67334210",
   "metadata": {},
   "source": [
    "#txt file\n",
    "data=file.read()\n",
    "    file.write()\n",
    "\n",
    " #csv\n",
    " data=file.reader(file)\n",
    "        file.writer(file)\n",
    "#.josn\n",
    " .load - used to read file \n",
    "\n",
    " .dump - used to write on file   "
   ]
  },
  {
   "cell_type": "code",
   "execution_count": null,
   "id": "e987052a",
   "metadata": {},
   "outputs": [],
   "source": [
    "# file opeaning mode_1\n",
    "file = open('hello.txt','r')\n",
    "data=file.read()\n",
    "file.close()"
   ]
  },
  {
   "cell_type": "code",
   "execution_count": null,
   "id": "aedb5a21",
   "metadata": {},
   "outputs": [],
   "source": [
    "data"
   ]
  },
  {
   "cell_type": "code",
   "execution_count": null,
   "id": "074ffc65",
   "metadata": {},
   "outputs": [],
   "source": [
    "# file opeaning mode_2  commonly used \n",
    "with open('hello.txt','r') as file:\n",
    "    data=file.read()\n",
    "    "
   ]
  },
  {
   "cell_type": "code",
   "execution_count": null,
   "id": "022be712",
   "metadata": {},
   "outputs": [],
   "source": [
    "# write mode in filehandling\n",
    "with open ('hello.txt','w') as file:\n",
    "    data=file.write('hhhhhhhhhhhhhhhhhhhhh')\n",
    "    \n"
   ]
  },
  {
   "cell_type": "code",
   "execution_count": null,
   "id": "5d3972df",
   "metadata": {},
   "outputs": [],
   "source": [
    "#write mode by using variable \n",
    "data=\"hello welcome\"    # we can used ('') this too\n",
    "with open ('hello.txt','w') as file:\n",
    "    file.write(data)\n"
   ]
  },
  {
   "cell_type": "code",
   "execution_count": null,
   "id": "cfd92992",
   "metadata": {},
   "outputs": [],
   "source": [
    "# append mode \n",
    "data=\" hanuman\"\n",
    "with open('hello.txt','a') as file:\n",
    "    file.write(data)"
   ]
  },
  {
   "cell_type": "markdown",
   "id": "62bc6f27",
   "metadata": {},
   "source": [
    "#csv file comma separated value\n",
    "## we have to read row wise for csv file"
   ]
  },
  {
   "cell_type": "code",
   "execution_count": null,
   "id": "d777223c",
   "metadata": {},
   "outputs": [],
   "source": [
    "import csv\n",
    "with open('Mall_Customers.csv','r') as file:\n",
    "    data=csv.reader(file)\n",
    "    for row in data:\n",
    "        print(row)"
   ]
  },
  {
   "cell_type": "code",
   "execution_count": 5,
   "id": "90abe887",
   "metadata": {},
   "outputs": [],
   "source": [
    "# writing in csv file \n",
    "import csv\n",
    "with open ('new.csv','w') as file:\n",
    "    data=csv.writer(file)\n",
    "    data.writerow(['ID','Gender']),\n",
    "    data.writerow(['101','m']),\n",
    "    data.writerow(['102','f']),"
   ]
  },
  {
   "cell_type": "code",
   "execution_count": 8,
   "id": "6c6ef6df",
   "metadata": {},
   "outputs": [],
   "source": [
    "#.json\n",
    "data={\n",
    "    'name':\"ram\",\n",
    "    'class':12,\n",
    "    'roll':3\n",
    " }"
   ]
  },
  {
   "cell_type": "code",
   "execution_count": null,
   "id": "25aac67b",
   "metadata": {},
   "outputs": [],
   "source": [
    "#how to open json file ()\n",
    "import json\n",
    "with open('def.json','w') as file:\n",
    "    json.dump(data ,file) \n"
   ]
  },
  {
   "cell_type": "code",
   "execution_count": null,
   "id": "9612db96",
   "metadata": {},
   "outputs": [
    {
     "data": {
      "text/plain": [
       "{'name': 'ram', 'class': 12, 'roll': 3}"
      ]
     },
     "execution_count": 11,
     "metadata": {},
     "output_type": "execute_result"
    }
   ],
   "source": []
  }
 ],
 "metadata": {
  "kernelspec": {
   "display_name": "Python 3",
   "language": "python",
   "name": "python3"
  },
  "language_info": {
   "codemirror_mode": {
    "name": "ipython",
    "version": 3
   },
   "file_extension": ".py",
   "mimetype": "text/x-python",
   "name": "python",
   "nbconvert_exporter": "python",
   "pygments_lexer": "ipython3",
   "version": "3.12.4"
  }
 },
 "nbformat": 4,
 "nbformat_minor": 5
}
