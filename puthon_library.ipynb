{
 "cells": [
  {
   "cell_type": "markdown",
   "id": "fe73df77",
   "metadata": {},
   "source": [
    "python libraries \n",
    "os\n",
    "    import os \n",
    "     print(dir(os))\n",
    "        os.getcwd()\n",
    "        os.makedir(n)\n",
    "        os.listdir()\n",
    "        os.remove(n)\n",
    "random\n",
    "    import random \n",
    "     print(dir(random))\n",
    "    \n",
    "math\n",
    "    import math    \n",
    "        print(dir(math))\n",
    "    \n",
    "        \n"
   ]
  },
  {
   "cell_type": "code",
   "execution_count": 3,
   "id": "6ce33a11",
   "metadata": {},
   "outputs": [
    {
     "name": "stdout",
     "output_type": "stream",
     "text": [
      "d:\\python--\n"
     ]
    }
   ],
   "source": [
    "import os \n",
    "print (os.getcwd())"
   ]
  },
  {
   "cell_type": "code",
   "execution_count": 13,
   "id": "17df5803",
   "metadata": {},
   "outputs": [
    {
     "name": "stdout",
     "output_type": "stream",
     "text": [
      "[2, 3, 1, 4, 5, 6]\n"
     ]
    }
   ],
   "source": [
    "import random\n",
    "x=([1,2,3,4,5,6])\n",
    "random.shuffle(x)\n",
    "print(x)\n",
    "\n"
   ]
  }
 ],
 "metadata": {
  "kernelspec": {
   "display_name": "Python 3",
   "language": "python",
   "name": "python3"
  },
  "language_info": {
   "codemirror_mode": {
    "name": "ipython",
    "version": 3
   },
   "file_extension": ".py",
   "mimetype": "text/x-python",
   "name": "python",
   "nbconvert_exporter": "python",
   "pygments_lexer": "ipython3",
   "version": "3.12.4"
  }
 },
 "nbformat": 4,
 "nbformat_minor": 5
}
