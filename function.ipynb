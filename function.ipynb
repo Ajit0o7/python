{
 "cells": [
  {
   "cell_type": "markdown",
   "id": "70536bc5",
   "metadata": {},
   "source": [
    "# function \n"
   ]
  },
  {
   "cell_type": "markdown",
   "id": "7c3f3def",
   "metadata": {},
   "source": [
    "def function name (parameter-1 , parameter-2):\n",
    "    body\n",
    "\n",
    "return "
   ]
  },
  {
   "cell_type": "code",
   "execution_count": null,
   "id": "3f37f59a",
   "metadata": {},
   "outputs": [],
   "source": [
    "# function to welcome user \n",
    "def welcome(name_1 ,name_2):\n",
    "    print(\"welcome\",name_1)\n",
    "    print(\"welcome\",name_2)\n",
    "\n",
    "welcome(\"ram\",\"hari\")"
   ]
  },
  {
   "cell_type": "code",
   "execution_count": null,
   "id": "5ee595e1",
   "metadata": {},
   "outputs": [],
   "source": [
    "#function\n",
    "def sum(a,b):\n",
    "    add=a+b\n",
    "    print(\"the sum of two number is \",add)\n",
    "\n",
    "a=int(input(\"enter number\"))\n",
    "b=int(input(\"enter the number\"))\n",
    "sum(a,b)\n"
   ]
  },
  {
   "cell_type": "code",
   "execution_count": null,
   "id": "27b9fa41",
   "metadata": {},
   "outputs": [],
   "source": [
    "#simple intrest\n",
    "def simple(p,t,r):\n",
    "    SI=(p*t*r)/100\n",
    "    print(\"the si  is \",SI)\n",
    "\n",
    "p=int(input(\"enter the principle amount\"))\n",
    "t=int(input(\"enter the time\"))\n",
    "r=int(input(\"enter the rate\"))\n",
    "simple(p,t,r)\n"
   ]
  },
  {
   "cell_type": "code",
   "execution_count": null,
   "id": "63929dee",
   "metadata": {},
   "outputs": [],
   "source": [
    "# with parameter and return value\n",
    "\n",
    "def sum(a,b):\n",
    "    add=a+b\n",
    "    return add\n",
    "   \n",
    "\n",
    "a=int(input(\"enter number\"))\n",
    "b=int(input(\"enter the number\"))\n",
    "the_sum=sum(a,b)\n",
    "print(\"the total sum is \",the_sum)\n",
    "\n"
   ]
  },
  {
   "cell_type": "markdown",
   "id": "1064475c",
   "metadata": {},
   "source": [
    "# write a program to define a function that checks whether the number is odd or even \n",
    "#write a program with a function that takes a number and return its factorial\n",
    "# write a program with a function that takes a list of number and return the sum"
   ]
  },
  {
   "cell_type": "code",
   "execution_count": 21,
   "id": "14dc7077",
   "metadata": {},
   "outputs": [
    {
     "name": "stdout",
     "output_type": "stream",
     "text": [
      "the number is odd\n"
     ]
    }
   ],
   "source": [
    "# write a program to define a function that checks whether the number is odd or even \n",
    "def checker(a):\n",
    "    if(a%2==0):\n",
    "        print(\"the number is even \")\n",
    "    else:\n",
    "        print(\"the number is odd\")\n",
    "checker(3)\n",
    "        "
   ]
  },
  {
   "cell_type": "code",
   "execution_count": 27,
   "id": "102826c1",
   "metadata": {},
   "outputs": [
    {
     "name": "stdout",
     "output_type": "stream",
     "text": [
      "Factorial of 10 is: 3628800\n"
     ]
    }
   ],
   "source": [
    "#write a program with a function that takes a number and return its factorial\n",
    "def factorial(num):\n",
    "    result = 1\n",
    "    for i in range(1, num + 1):\n",
    "        result *= i\n",
    "    return result\n",
    "\n",
    "# Call the function and print the result\n",
    "values = factorial(10)\n",
    "print(\"Factorial of 10 is:\", values)\n"
   ]
  },
  {
   "cell_type": "markdown",
   "id": "b884e3f4",
   "metadata": {},
   "source": []
  },
  {
   "cell_type": "code",
   "execution_count": 40,
   "id": "04d67222",
   "metadata": {},
   "outputs": [
    {
     "name": "stdout",
     "output_type": "stream",
     "text": [
      "The sum of list is 15\n"
     ]
    }
   ],
   "source": [
    "# write a program with a function that takes a list of number and return the sum\n",
    "def L_sum(number):\n",
    "    total = 0\n",
    "    for i in number:\n",
    "        total += i\n",
    "    return total\n",
    "\n",
    "total_sum = [1, 2, 3, 4, 5]\n",
    "result = L_sum(total_sum)\n",
    "print(\"The sum of list is\", result)\n",
    "\n",
    "        "
   ]
  },
  {
   "cell_type": "markdown",
   "id": "6ad6f40a",
   "metadata": {},
   "source": [
    "# function can able to return multiple values "
   ]
  },
  {
   "cell_type": "code",
   "execution_count": 43,
   "id": "26d031bb",
   "metadata": {},
   "outputs": [
    {
     "name": "stdout",
     "output_type": "stream",
     "text": [
      "the sum is  14\n",
      "the sub is  6\n"
     ]
    }
   ],
   "source": [
    "def sum(a,b):\n",
    "    add=a+b\n",
    "    sub=a-b\n",
    "    return add , sub\n",
    "\n",
    "a=int(input(\"enter number\"))\n",
    "b=int(input(\"enter the number\"))\n",
    "addition , subtraction = sum(a,b)\n",
    "print(\"the sum is \", addition)\n",
    "print(\"the sub is \", subtraction)\n",
    "\n"
   ]
  },
  {
   "cell_type": "markdown",
   "id": "b6f281da",
   "metadata": {},
   "source": [
    "#  Scope and Lifetime"
   ]
  },
  {
   "cell_type": "code",
   "execution_count": 1,
   "id": "fc0b3a22",
   "metadata": {},
   "outputs": [
    {
     "name": "stdout",
     "output_type": "stream",
     "text": [
      "5\n",
      "10\n"
     ]
    }
   ],
   "source": [
    "x = 10  # global\n",
    "\n",
    "def example():\n",
    "    x = 5  # local\n",
    "    print(x)\n",
    "\n",
    "example()  # 5\n",
    "print(x)   # 10\n"
   ]
  },
  {
   "cell_type": "code",
   "execution_count": null,
   "id": "0c909279",
   "metadata": {},
   "outputs": [],
   "source": [
    "# we can access globle variable with global keyword \n",
    "x = 10\n",
    "\n",
    "def change():\n",
    "    global x\n",
    "    x = 20\n",
    "\n",
    "change()\n",
    "print(x)  # 20\n"
   ]
  },
  {
   "cell_type": "markdown",
   "id": "cdc3c016",
   "metadata": {},
   "source": [
    "#Anonymous Functions"
   ]
  },
  {
   "cell_type": "code",
   "execution_count": null,
   "id": "a79b0565",
   "metadata": {},
   "outputs": [],
   "source": [
    "square = lambda x: x * x\n",
    "print(square(5))  # 25\n"
   ]
  },
  {
   "cell_type": "markdown",
   "id": "14989e08",
   "metadata": {},
   "source": [
    "#Optional Parameters \n"
   ]
  },
  {
   "cell_type": "code",
   "execution_count": 2,
   "id": "c29cfcec",
   "metadata": {},
   "outputs": [
    {
     "name": "stdout",
     "output_type": "stream",
     "text": [
      "I have a cat named Kitty.\n",
      "I have a parrot named Buddy.\n",
      "I have a dog named Buddy.\n"
     ]
    }
   ],
   "source": [
    "def describe_pet(animal=\"dog\", name=\"Buddy\"):\n",
    "    print(f\"I have a {animal} named {name}.\")\n",
    "\n",
    "describe_pet(\"cat\", \"Kitty\")\n",
    "describe_pet(\"parrot\")  # `name` defaults to \"Buddy\"\n",
    "describe_pet()          # both use default values\n"
   ]
  },
  {
   "cell_type": "code",
   "execution_count": null,
   "id": "8af82968",
   "metadata": {},
   "outputs": [],
   "source": [
    "# Optional Parameters with None as Default\n",
    "def display(message=None):\n",
    "    if message is None:\n",
    "        print(\"No message provided.\")\n",
    "    else:\n",
    "        print(\"Message:\", message)\n",
    "\n",
    "display(\"Hello\")   # Message: Hello\n",
    "display()          # No message provided.\n"
   ]
  }
 ],
 "metadata": {
  "kernelspec": {
   "display_name": "Python 3",
   "language": "python",
   "name": "python3"
  },
  "language_info": {
   "codemirror_mode": {
    "name": "ipython",
    "version": 3
   },
   "file_extension": ".py",
   "mimetype": "text/x-python",
   "name": "python",
   "nbconvert_exporter": "python",
   "pygments_lexer": "ipython3",
   "version": "3.12.4"
  }
 },
 "nbformat": 4,
 "nbformat_minor": 5
}
