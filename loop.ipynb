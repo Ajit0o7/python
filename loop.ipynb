{
 "cells": [
  {
   "cell_type": "code",
   "execution_count": null,
   "id": "dde13d36-7c09-42ca-aeef-79e074a26c70",
   "metadata": {},
   "outputs": [],
   "source": [
    "#loop\n",
    "for i in range(5):\n",
    "    print(\"hello\")"
   ]
  },
  {
   "cell_type": "code",
   "execution_count": null,
   "id": "c89e01da-f1db-49f6-a61e-1e625193cdf7",
   "metadata": {},
   "outputs": [],
   "source": [
    "#list\n",
    "roll=[4,6,9,2]\n",
    "for i in roll:\n",
    "    print(i)"
   ]
  },
  {
   "cell_type": "code",
   "execution_count": null,
   "id": "1f6660a9-539f-4bd4-9751-c7b8fc34843f",
   "metadata": {
    "collapsed": true,
    "jupyter": {
     "outputs_hidden": true
    },
    "scrolled": true
   },
   "outputs": [],
   "source": [
    "#start , stop\n",
    "for i in range(1,10):\n",
    "    print(i)"
   ]
  },
  {
   "cell_type": "code",
   "execution_count": null,
   "id": "31089948-82de-4b66-9f63-f42b8f33397e",
   "metadata": {
    "jupyter": {
     "source_hidden": true
    }
   },
   "outputs": [],
   "source": []
  },
  {
   "cell_type": "code",
   "execution_count": null,
   "id": "8e87b6d2-b406-413d-b60b-3886b1a61a84",
   "metadata": {},
   "outputs": [],
   "source": [
    "#starting #stop #step\n",
    "for i in range(10, 1,-1):\n",
    "    print(i)\n",
    "    "
   ]
  },
  {
   "cell_type": "code",
   "execution_count": null,
   "id": "0a0c6058-371c-4a25-9c48-218a67ca60d3",
   "metadata": {},
   "outputs": [],
   "source": [
    "n=1\n",
    "while(n<6):\n",
    "    print(n)\n",
    "    n=n+1\n",
    "    "
   ]
  },
  {
   "cell_type": "code",
   "execution_count": null,
   "id": "baeaa7ff-16b6-40c3-a64a-47b8b082b563",
   "metadata": {},
   "outputs": [],
   "source": []
  }
 ],
 "metadata": {
  "kernelspec": {
   "display_name": "Python 3 (ipykernel)",
   "language": "python",
   "name": "python3"
  },
  "language_info": {
   "codemirror_mode": {
    "name": "ipython",
    "version": 3
   },
   "file_extension": ".py",
   "mimetype": "text/x-python",
   "name": "python",
   "nbconvert_exporter": "python",
   "pygments_lexer": "ipython3",
   "version": "3.12.4"
  }
 },
 "nbformat": 4,
 "nbformat_minor": 5
}
