{
 "cells": [
  {
   "cell_type": "markdown",
   "id": "1e9bca50",
   "metadata": {},
   "source": [
    "#class and object"
   ]
  },
  {
   "cell_type": "code",
   "execution_count": null,
   "id": "30b83976",
   "metadata": {},
   "outputs": [],
   "source": [
    "class student:    #classname(student)\n",
    "    name='ram'\n",
    "    age='19'\n",
    "s1=student()        #s1 is object \n",
    "print(s1.name)"
   ]
  },
  {
   "cell_type": "code",
   "execution_count": null,
   "id": "dab85b25",
   "metadata": {},
   "outputs": [],
   "source": [
    "class rectangle :\n",
    "    L=10\n",
    "    B=20\n",
    "    def area(self):         # we have to write self \n",
    "        areas= self.L*self.B \n",
    "        print( areas)\n",
    "    def perimeter(self):     \n",
    "        p= 2 *(self.L*self.B)\n",
    "        print(p)\n",
    "r1=rectangle()\n",
    "r1.area()\n",
    "r1.perimeter()\n",
    "\n"
   ]
  },
  {
   "cell_type": "code",
   "execution_count": null,
   "id": "825b0923",
   "metadata": {},
   "outputs": [],
   "source": [
    "#  initialize the attributes  \n",
    "class calculator:\n",
    "    def __init__(self):                     #\n",
    "        self. a=int(input(\"enter the first number \"))\n",
    "        self.b=int(input(\"enter the second number \"))\n",
    "    def addition(self):\n",
    "        sum=self.a+self.b\n",
    "        print(sum)\n",
    "    def sub (self):\n",
    "        sub=self.a-self.b\n",
    "        print(sub)   \n",
    "obj=calculator()\n",
    "obj.addition()\n",
    "obj.sub()\n",
    "    \n",
    "                 "
   ]
  },
  {
   "cell_type": "code",
   "execution_count": null,
   "id": "f0c09a44",
   "metadata": {},
   "outputs": [],
   "source": [
    "# initializer with attribute value pass\n",
    "class calculator:\n",
    "    def __init__(self,num1,num2):\n",
    "        self.N1=num1\n",
    "        self.N2=num2\n",
    "    def sum (self):\n",
    "        add=self.N1+self.N2\n",
    "        return add\n",
    "obj=calculator(10,50)\n",
    "additions=obj.sum()\n",
    "print(additions)\n",
    "           "
   ]
  },
  {
   "cell_type": "code",
   "execution_count": null,
   "id": "f31ba689",
   "metadata": {},
   "outputs": [],
   "source": [
    "#class bankaccount\n",
    "# attribute balance\n",
    "# method withdraw , deposit , checkbalance \n",
    "class bankaccount:\n",
    "    def __init__(self,balance=0):\n",
    "        self.balance=balance\n",
    "\n",
    "    def deposit(self,amount):\n",
    "        self.balance +=amount\n",
    "        print(f\"sucessfully deposite rs.{amount} now your current balance is {self.balance}\")\n",
    "    def withdraw(self,w_amount):\n",
    "        if self.balance > w_amount:\n",
    "            self.balance-= w_amount\n",
    "            print(f\"you sucessflly withdraw {w_amount} and your current balance is {self.balance}\")\n",
    "        else:\n",
    "            print(\"not enough balance \")\n",
    "\n",
    "    def checkbalance(self):\n",
    "        print(f\"you current balance is {self.balance}\")    \n",
    "\n",
    "account=bankaccount()\n",
    "\n",
    "deposite_amount=int(input(\"enter your deposite amount \"))\n",
    "account.deposit(deposite_amount)\n",
    "\n"
   ]
  },
  {
   "cell_type": "code",
   "execution_count": null,
   "id": "b96b1c59",
   "metadata": {},
   "outputs": [],
   "source": [
    "a1=BankAccount()\n",
    "a1.deposite()\n",
    "a1.withdraw()\n",
    "a1.checkbalance()"
   ]
  },
  {
   "cell_type": "markdown",
   "id": "095b4ed3",
   "metadata": {},
   "source": [
    "#inheritance "
   ]
  },
  {
   "cell_type": "code",
   "execution_count": 24,
   "id": "e4be303b",
   "metadata": {},
   "outputs": [
    {
     "name": "stdout",
     "output_type": "stream",
     "text": [
      "name and id is ram 101\n",
      "your data is computer_science\n"
     ]
    }
   ],
   "source": [
    "class person:\n",
    "    name = 'ram'\n",
    "    id = 101\n",
    "        \n",
    "    def display(self):\n",
    "        print(\"name and id is\", self.name, self.id)\n",
    "\n",
    "class student(person):\n",
    "    faculty = \"computer_science\"\n",
    "\n",
    "    def showdata(self):\n",
    "        print(\"your data is\", self.faculty)\n",
    "\n",
    "# Create an object of student class\n",
    "a1 = student()\n",
    "\n",
    "# Call methods\n",
    "a1.display()\n",
    "a1.showdata()\n"
   ]
  },
  {
   "cell_type": "markdown",
   "id": "a3977043",
   "metadata": {},
   "source": [
    "bank\n",
    "    name\n",
    "    id\n",
    "    method\n",
    "branch bank\n",
    "    location"
   ]
  },
  {
   "cell_type": "code",
   "execution_count": null,
   "id": "6b27f06f",
   "metadata": {},
   "outputs": [],
   "source": [
    "class bank:\n",
    "    name=\"ram\"\n",
    "    id=101\n",
    "    def show_details(self)"
   ]
  },
  {
   "cell_type": "markdown",
   "id": "87d2f380",
   "metadata": {},
   "source": [
    "#function overloading\n"
   ]
  },
  {
   "cell_type": "code",
   "execution_count": 29,
   "id": "ad4738b7",
   "metadata": {},
   "outputs": [
    {
     "name": "stdout",
     "output_type": "stream",
     "text": [
      "ram\n",
      "101\n"
     ]
    }
   ],
   "source": [
    "class person:\n",
    "    name='ram'\n",
    "    id=101\n",
    "    def display(self):\n",
    "        print(self.name)\n",
    "        print(self.id)   \n",
    "class student (person):\n",
    "    course=\"python\"\n",
    "    def display(self):\n",
    "        super().display()\n",
    "    \n",
    "        print(self.course)\n",
    "    def display_1(self):\n",
    "         super().display()       # calling only one  method display \n",
    "a1=student()\n",
    "a1.display_1()\n",
    "        \n"
   ]
  },
  {
   "cell_type": "markdown",
   "id": "a919a504",
   "metadata": {},
   "source": [
    "# multilevel class"
   ]
  },
  {
   "cell_type": "code",
   "execution_count": 1,
   "id": "7e7ce20f",
   "metadata": {},
   "outputs": [
    {
     "name": "stdout",
     "output_type": "stream",
     "text": [
      "ram\n",
      "101\n",
      "python\n",
      "gpa 4\n"
     ]
    }
   ],
   "source": [
    "class person:\n",
    "    def __init__(self,name,id):\n",
    "    \n",
    "        self.name=name\n",
    "        self.id=id\n",
    "    def display(self):\n",
    "        print(self.name)\n",
    "        print(self.id)   \n",
    "class student (person):\n",
    "    def __init__(self, name, id,course):\n",
    "        self.course=course\n",
    "        super().__init__(name, id,)\n",
    "   \n",
    "    def display(self):\n",
    "        super().display()\n",
    "        print(self.course)\n",
    "class graduate_std(student):\n",
    "    def __init__(self, name, id, course,gpa):\n",
    "        self.gpa=gpa\n",
    "        super().__init__(name, id, course,)   \n",
    "    def display(self):\n",
    "        super().display() \n",
    "        print(\"gpa\",self.gpa)\n",
    "a1 = graduate_std('ram', '101', 'python', '4')\n",
    "a1.display()"
   ]
  },
  {
   "cell_type": "markdown",
   "id": "418070c6",
   "metadata": {},
   "source": [
    "# Multilevel inheritence "
   ]
  },
  {
   "cell_type": "code",
   "execution_count": 3,
   "id": "2aa23f4e",
   "metadata": {},
   "outputs": [
    {
     "name": "stdout",
     "output_type": "stream",
     "text": [
      "Ajit\n",
      "101\n",
      "Football\n",
      "faculty Computer Science\n"
     ]
    }
   ],
   "source": [
    "class person:\n",
    "    def __init__(self,name,id):\n",
    "        self.name=name\n",
    "        self.id=id\n",
    "    def display(self):\n",
    "        print(self.name)\n",
    "        print(self.id)\n",
    "\n",
    "class player:\n",
    "    def __init__(self,game):\n",
    "        self.game=game\n",
    "    def showinfo(self):\n",
    "        print(self.game)\n",
    "\n",
    "class student (person,player):\n",
    "    def __init__(self, name, id,game,faculty):\n",
    "        person .__init__(self,name,id)\n",
    "        player. __init__(self,game)\n",
    "        self.faculty=faculty\n",
    "    def showinfo(self):\n",
    "        person.display(self)\n",
    "        player.showinfo(self)\n",
    "        print('faculty',self.faculty)\n",
    "\n",
    "obj = student(\"Ajit\", 101, \"Football\", \"Computer Science\")\n",
    "obj.showinfo()\n",
    "\n",
    "\n",
    "    "
   ]
  },
  {
   "cell_type": "markdown",
   "id": "a4ae3046",
   "metadata": {},
   "source": [
    "# polymerphism \n",
    "    that jhave multiple form \n",
    "        - method overriding \n",
    "        -operator overloading"
   ]
  },
  {
   "cell_type": "code",
   "execution_count": 9,
   "id": "0ca8d9e5",
   "metadata": {},
   "outputs": [
    {
     "name": "stdout",
     "output_type": "stream",
     "text": [
      "faculty is  brammand\n"
     ]
    }
   ],
   "source": [
    "# method overriding \n",
    "\n",
    "class person:\n",
    "    def __init__(self,name,id):\n",
    "        self.name=name\n",
    "        self.id=id\n",
    "    def show(self):\n",
    "        print(\"name is \",self.name)\n",
    "        print(\"id is \",self.id)\n",
    "class student(person):\n",
    "    def __init__(self, name, id,faculty):\n",
    "        super().__init__(name, id)   \n",
    "        self.faculty=faculty \n",
    "    def show(self):\n",
    "        print(\"faculty is \",self.faculty)\n",
    "obj = student('hanuman',7,'brammand')        \n",
    "obj.show()\n"
   ]
  },
  {
   "cell_type": "code",
   "execution_count": 16,
   "id": "2df30b42",
   "metadata": {},
   "outputs": [
    {
     "name": "stdout",
     "output_type": "stream",
     "text": [
      "(30, 50)\n"
     ]
    }
   ],
   "source": [
    "#operator overloading\n",
    "class ramji:\n",
    "    def __init__(self,x,y):\n",
    "        self.x=x\n",
    "        self.y=y\n",
    "    def __add__ (self,other):\n",
    "        return  self.x+ other.x , self.y +other.y\n",
    "\n",
    "obj1=ramji(10 ,20 )\n",
    "obj2=ramji(20,30)\n",
    "\n",
    "obj3=obj1+obj2\n",
    "print(obj3)"
   ]
  }
 ],
 "metadata": {
  "kernelspec": {
   "display_name": "Python 3",
   "language": "python",
   "name": "python3"
  },
  "language_info": {
   "codemirror_mode": {
    "name": "ipython",
    "version": 3
   },
   "file_extension": ".py",
   "mimetype": "text/x-python",
   "name": "python",
   "nbconvert_exporter": "python",
   "pygments_lexer": "ipython3",
   "version": "3.12.4"
  }
 },
 "nbformat": 4,
 "nbformat_minor": 5
}
