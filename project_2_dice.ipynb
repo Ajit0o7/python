{
 "cells": [
  {
   "cell_type": "code",
   "execution_count": null,
   "id": "4739a33c",
   "metadata": {},
   "outputs": [
    {
     "ename": "SyntaxError",
     "evalue": "invalid syntax. Maybe you meant '==' or ':=' instead of '='? (1201781231.py, line 12)",
     "output_type": "error",
     "traceback": [
      "  \u001b[36mCell\u001b[39m\u001b[36m \u001b[39m\u001b[32mIn[1]\u001b[39m\u001b[32m, line 12\u001b[39m\n\u001b[31m    \u001b[39m\u001b[31mif user_roll = computer_roll:\u001b[39m\n       ^\n\u001b[31mSyntaxError\u001b[39m\u001b[31m:\u001b[39m invalid syntax. Maybe you meant '==' or ':=' instead of '='?\n"
     ]
    }
   ],
   "source": [
    "import random\n",
    "\n",
    "while True:\n",
    "    input(\"Press Enter to roll the dice...\")\n",
    "\n",
    "    user_roll = random.randint(1,2,3,4,5,6)\n",
    "    computer_roll = random.randint(1,2,3,4,5,6)\n",
    "\n",
    "    print(\"You rolled:\", user_roll)\n",
    "    print(\"Computer rolled:\", computer_roll)\n",
    "\n",
    "    if (user_roll = computer_roll) :\n",
    "        print(\"You win!\")\n",
    "    elif :\n",
    "        print(\"Computer wins!\")\n",
    "  \n",
    "\n",
    "    play_again = input(\"Do you want to play again? (yes or no): \")\n",
    "    if play_again.lower() != \"yes\":\n",
    "        print(\"Thanks for playing!\")\n",
    "        break\n"
   ]
  }
 ],
 "metadata": {
  "kernelspec": {
   "display_name": "Python 3",
   "language": "python",
   "name": "python3"
  },
  "language_info": {
   "codemirror_mode": {
    "name": "ipython",
    "version": 3
   },
   "file_extension": ".py",
   "mimetype": "text/x-python",
   "name": "python",
   "nbconvert_exporter": "python",
   "pygments_lexer": "ipython3",
   "version": "3.12.4"
  }
 },
 "nbformat": 4,
 "nbformat_minor": 5
}
