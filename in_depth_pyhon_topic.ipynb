{
 "cells": [
  {
   "cell_type": "markdown",
   "id": "15f865ea",
   "metadata": {},
   "source": [
    "# iambda function\n",
    "# list comprehension\n",
    "# generation\n",
    "# *args , #kwargs"
   ]
  },
  {
   "cell_type": "code",
   "execution_count": null,
   "id": "3629f346",
   "metadata": {},
   "outputs": [],
   "source": [
    "# list comprehension            # we have a list and if we have to perform any operation  on element , we can usedlist comprehension \n",
    "num=[1,2,3,4,5]\n",
    "sq_num=[]\n",
    "for x in num:\n",
    "    x**2\n",
    "    sq_num.append(x)\n",
    "print(sq_num)"
   ]
  },
  {
   "cell_type": "code",
   "execution_count": 15,
   "id": "fe934b0f",
   "metadata": {},
   "outputs": [
    {
     "name": "stdout",
     "output_type": "stream",
     "text": [
      "even numbr is  [2, 4]\n"
     ]
    }
   ],
   "source": [
    "num=[1,2,3,4,5]\n",
    "sq_num=[x for x in num if x%2==0]\n",
    "print(\"even numbr is \",sq_num)\n",
    "\n"
   ]
  },
  {
   "cell_type": "code",
   "execution_count": 16,
   "id": "e077a83d",
   "metadata": {},
   "outputs": [
    {
     "name": "stdout",
     "output_type": "stream",
     "text": [
      "[1, 8, 27, 64, 125]\n"
     ]
    }
   ],
   "source": [
    "#  if you want to used if else statement \n",
    "num = [1, 2, 3, 4, 5]\n",
    "sq_num = [x**3 if x > 0 else x**2 for x in num]\n",
    "print(sq_num)\n"
   ]
  },
  {
   "cell_type": "code",
   "execution_count": 1,
   "id": "10391f24",
   "metadata": {},
   "outputs": [
    {
     "name": "stdout",
     "output_type": "stream",
     "text": [
      "21\n"
     ]
    }
   ],
   "source": [
    "# *args -we can give unlimited parameters \n",
    "\n",
    "def sum (*sums):\n",
    "    add=0\n",
    "    for x in sums:\n",
    "        add= add+x\n",
    "    return add\n",
    "obj1=sum(1,2,3,4,5,6)\n",
    "print(obj1)\n"
   ]
  },
  {
   "cell_type": "code",
   "execution_count": 9,
   "id": "59a52f5c",
   "metadata": {},
   "outputs": [
    {
     "name": "stdout",
     "output_type": "stream",
     "text": [
      "{'a': 5, 'b': 6, 'c': 7, 'd': 8}\n"
     ]
    }
   ],
   "source": [
    "# **kwargs\n",
    "def display(**kwargs):\n",
    "    print(kwargs)\n",
    "display(a=5,b=6,c=7,d=8) "
   ]
  },
  {
   "cell_type": "code",
   "execution_count": null,
   "id": "285b1cd7",
   "metadata": {},
   "outputs": [],
   "source": []
  }
 ],
 "metadata": {
  "kernelspec": {
   "display_name": "Python 3",
   "language": "python",
   "name": "python3"
  },
  "language_info": {
   "codemirror_mode": {
    "name": "ipython",
    "version": 3
   },
   "file_extension": ".py",
   "mimetype": "text/x-python",
   "name": "python",
   "nbconvert_exporter": "python",
   "pygments_lexer": "ipython3",
   "version": "3.12.4"
  }
 },
 "nbformat": 4,
 "nbformat_minor": 5
}
