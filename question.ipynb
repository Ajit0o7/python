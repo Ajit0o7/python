{
 "cells": [
  {
   "cell_type": "markdown",
   "id": "c6e77d29",
   "metadata": {},
   "source": [
    "program"
   ]
  },
  {
   "cell_type": "code",
   "execution_count": null,
   "id": "42fffdd3",
   "metadata": {},
   "outputs": [],
   "source": [
    "#\n",
    "# write a program to print natural number from 1 to n \n",
    "#for loop\n",
    "n=int(input(\"enter a number \"))\n",
    "for i in range(1,n+1):\n",
    "    print(i)"
   ]
  },
  {
   "cell_type": "code",
   "execution_count": null,
   "id": "99a84a20",
   "metadata": {},
   "outputs": [],
   "source": [
    "#by using while loop\n",
    "n=int(input(\"enter a number \"))\n",
    "i=1\n",
    "while(i<=n):\n",
    "  print(i)\n",
    "  i=i+1   \n",
    "\n"
   ]
  },
  {
   "cell_type": "code",
   "execution_count": null,
   "id": "d4bc44bc",
   "metadata": {},
   "outputs": [],
   "source": [
    "#write a program to print sum of natural number from 1 to n \n",
    "n = int (input(\"enter a number\"))\n",
    "sum=0\n",
    "for i in range(1,n+1):\n",
    "    sum=sum+i\n",
    "\n",
    "print(sum)    \n"
   ]
  },
  {
   "cell_type": "code",
   "execution_count": null,
   "id": "5da19caf",
   "metadata": {},
   "outputs": [],
   "source": [
    "#write a program to print the product of natural number from 1 to n \n",
    "n= int (input(\"enter a number\"))\n",
    "product=1\n",
    "for i in range(1,n+1):\n",
    "    product=product*i\n",
    "  \n",
    "print(product)\n",
    "\n"
   ]
  },
  {
   "cell_type": "code",
   "execution_count": null,
   "id": "1a7e3577",
   "metadata": {},
   "outputs": [],
   "source": [
    "#multipication table of n number \n",
    "mul=n\n",
    "n= int(input(\"enter the vale of number\"))\n",
    "for i in range(1,11):\n",
    "    result=mul*i\n",
    "    print(result)\n",
    "    "
   ]
  },
  {
   "cell_type": "code",
   "execution_count": null,
   "id": "f6520922",
   "metadata": {},
   "outputs": [
    {
     "name": "stdout",
     "output_type": "stream",
     "text": [
      "not prime \n"
     ]
    }
   ],
   "source": [
    "#write a program to check the number is prime or not\n",
    "n=int(input(\"enter a number\"))\n",
    "if (n<1):\n",
    "    print(\"not prime\")\n",
    "else:\n",
    "\n",
    "    if(n%2==0):\n",
    "        print(\"not prime \")\n",
    "\n",
    "    else:       \n",
    "        print(\" prime\")"
   ]
  },
  {
   "cell_type": "code",
   "execution_count": 43,
   "id": "03a0466c",
   "metadata": {},
   "outputs": [
    {
     "name": "stdout",
     "output_type": "stream",
     "text": [
      "prime\n",
      "prime\n",
      "prime\n"
     ]
    }
   ],
   "source": [
    "#above\n",
    "n=int(input(\"enter a  number\"))\n",
    "for i in range(2,n):\n",
    "    if(n%i==0):\n",
    "        print('not prime')\n",
    "        break\n",
    "    else:\n",
    "        for i in range(10):\n",
    "            i=i+1\n",
    "        if(n%i==0):\n",
    "            print(\"not prime\")\n",
    "            break\n",
    "        print(\"prime\")"
   ]
  },
  {
   "cell_type": "markdown",
   "id": "66163023",
   "metadata": {},
   "source": [
    "# data structure question\n",
    "1.remove dublicate element from a list\n",
    "2. find the second largest element from the list\n",
    "3. count frequency of the list \n",
    "4. find the common  two element from the list\n",
    "5.student score tracker \n",
    "    use a list of tuples to store student name and score\n",
    "    add new entities , find the average, highest, and lowest ."
   ]
  },
  {
   "cell_type": "markdown",
   "id": "a256aaf3",
   "metadata": {},
   "source": []
  }
 ],
 "metadata": {
  "kernelspec": {
   "display_name": "Python 3",
   "language": "python",
   "name": "python3"
  },
  "language_info": {
   "codemirror_mode": {
    "name": "ipython",
    "version": 3
   },
   "file_extension": ".py",
   "mimetype": "text/x-python",
   "name": "python",
   "nbconvert_exporter": "python",
   "pygments_lexer": "ipython3",
   "version": "3.12.4"
  }
 },
 "nbformat": 4,
 "nbformat_minor": 5
}
