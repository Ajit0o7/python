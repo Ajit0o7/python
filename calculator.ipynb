{
 "cells": [
  {
   "cell_type": "markdown",
   "id": "029a9b6e",
   "metadata": {},
   "source": [
    "# Calculator app"
   ]
  },
  {
   "cell_type": "code",
   "execution_count": null,
   "id": "c0d91a0c",
   "metadata": {},
   "outputs": [
    {
     "name": "stdout",
     "output_type": "stream",
     "text": [
      "Welcome \n",
      "Which operator do you want to choose:\n",
      "1. Addition\n",
      "2. Subtraction\n",
      "3. Division\n",
      "4. Multiplication\n",
      "5. Square root\n",
      "6. Exit\n"
     ]
    },
    {
     "ename": "TypeError",
     "evalue": "'int' object is not iterable",
     "output_type": "error",
     "traceback": [
      "\u001b[31m---------------------------------------------------------------------------\u001b[39m",
      "\u001b[31mTypeError\u001b[39m                                 Traceback (most recent call last)",
      "\u001b[36mCell\u001b[39m\u001b[36m \u001b[39m\u001b[32mIn[20]\u001b[39m\u001b[32m, line 32\u001b[39m\n\u001b[32m     29\u001b[39m \u001b[38;5;28mprint\u001b[39m(\u001b[33m\"\u001b[39m\u001b[33m6. Exit\u001b[39m\u001b[33m\"\u001b[39m)  \n\u001b[32m     31\u001b[39m \u001b[38;5;28mobject\u001b[39m=Calculator\n\u001b[32m---> \u001b[39m\u001b[32m32\u001b[39m a=\u001b[38;5;28;43mobject\u001b[39;49m\u001b[43m.\u001b[49m\u001b[43madd\u001b[49m\u001b[43m(\u001b[49m\u001b[32;43m1\u001b[39;49m\u001b[43m,\u001b[49m\u001b[32;43m2\u001b[39;49m\u001b[43m)\u001b[49m\n\u001b[32m     33\u001b[39m \u001b[38;5;28mprint\u001b[39m(a)\n",
      "\u001b[36mCell\u001b[39m\u001b[36m \u001b[39m\u001b[32mIn[20]\u001b[39m\u001b[32m, line 9\u001b[39m, in \u001b[36mCalculator.add\u001b[39m\u001b[34m(self, *number)\u001b[39m\n\u001b[32m      8\u001b[39m \u001b[38;5;28;01mdef\u001b[39;00m\u001b[38;5;250m \u001b[39m\u001b[34madd\u001b[39m(\u001b[38;5;28mself\u001b[39m, *number):\n\u001b[32m----> \u001b[39m\u001b[32m9\u001b[39m     \u001b[38;5;28;01mreturn\u001b[39;00m \u001b[38;5;28;43msum\u001b[39;49m\u001b[43m(\u001b[49m\u001b[43m*\u001b[49m\u001b[43mnumber\u001b[49m\u001b[43m)\u001b[49m\n",
      "\u001b[31mTypeError\u001b[39m: 'int' object is not iterable"
     ]
    }
   ],
   "source": [
    "import time\n",
    "import math \n",
    "\n",
    "print(\"Welcome \")\n",
    "time.sleep(1)\n",
    "\n",
    "class Calculator:\n",
    "    def add(self, *number):\n",
    "        return sum(*number)\n",
    "    \n",
    "    def sub (self,a,b):\n",
    "        return a-b\n",
    "    \n",
    "    try:\n",
    "        def div (self,a,b):\n",
    "            return a/b\n",
    "    except:\n",
    "        print(\"divide by zero is not allowed \")\n",
    "    \n",
    "\n",
    "\n",
    "\n",
    "print(\"Which operator do you want to choose:\")\n",
    "print(\"1. Addition\")\n",
    "print(\"2. Subtraction\")\n",
    "print(\"3. Division\")\n",
    "print(\"4. Multiplication\")\n",
    "print(\"5. Square root\")\n",
    "print(\"6. Exit\")  \n",
    "\n",
    "object=Calculator\n",
    "object.add(1,2)\n"
   ]
  }
 ],
 "metadata": {
  "kernelspec": {
   "display_name": "Python 3",
   "language": "python",
   "name": "python3"
  },
  "language_info": {
   "codemirror_mode": {
    "name": "ipython",
    "version": 3
   },
   "file_extension": ".py",
   "mimetype": "text/x-python",
   "name": "python",
   "nbconvert_exporter": "python",
   "pygments_lexer": "ipython3",
   "version": "3.12.4"
  }
 },
 "nbformat": 4,
 "nbformat_minor": 5
}
