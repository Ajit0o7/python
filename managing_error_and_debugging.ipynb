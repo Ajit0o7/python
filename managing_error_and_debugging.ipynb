{
 "cells": [
  {
   "cell_type": "markdown",
   "id": "ee255610",
   "metadata": {},
   "source": [
    "# managing error and debugging "
   ]
  },
  {
   "cell_type": "code",
   "execution_count": 1,
   "id": "ac4d3e15",
   "metadata": {},
   "outputs": [
    {
     "name": "stdout",
     "output_type": "stream",
     "text": [
      "12.5\n"
     ]
    }
   ],
   "source": [
    "a=100 \n",
    "b=8\n",
    "try:\n",
    "    div=a/b\n",
    "    print(div)\n",
    "except:\n",
    "    print(\"division is zero is not allowed \")"
   ]
  },
  {
   "cell_type": "code",
   "execution_count": 6,
   "id": "a14dcb3f",
   "metadata": {},
   "outputs": [
    {
     "name": "stdout",
     "output_type": "stream",
     "text": [
      "0.010101010101010102\n"
     ]
    }
   ],
   "source": [
    "a=int(input(\"enter a number\"))\n",
    "b=int(input(\"enter 2nd number\"))\n",
    "try:\n",
    "    div=a/b\n",
    "    print(div)\n",
    "except ZeroDivisionError:\n",
    "    print(\"zero is not allowed \")"
   ]
  },
  {
   "cell_type": "code",
   "execution_count": null,
   "id": "e76a5531",
   "metadata": {},
   "outputs": [
    {
     "ename": "ValueError",
     "evalue": "invalid literal for int() with base 10: ''",
     "output_type": "error",
     "traceback": [
      "\u001b[31m---------------------------------------------------------------------------\u001b[39m",
      "\u001b[31mValueError\u001b[39m                                Traceback (most recent call last)",
      "\u001b[36mCell\u001b[39m\u001b[36m \u001b[39m\u001b[32mIn[15]\u001b[39m\u001b[32m, line 1\u001b[39m\n\u001b[32m----> \u001b[39m\u001b[32m1\u001b[39m a=\u001b[38;5;28;43mint\u001b[39;49m\u001b[43m(\u001b[49m\u001b[38;5;28;43minput\u001b[39;49m\u001b[43m(\u001b[49m\u001b[33;43m\"\u001b[39;49m\u001b[33;43menter a number\u001b[39;49m\u001b[33;43m\"\u001b[39;49m\u001b[43m)\u001b[49m\u001b[43m)\u001b[49m\n\u001b[32m      3\u001b[39m \u001b[38;5;28;01mtry\u001b[39;00m:\n\u001b[32m      4\u001b[39m     b=\u001b[38;5;28mint\u001b[39m(\u001b[38;5;28minput\u001b[39m(\u001b[33m\"\u001b[39m\u001b[33menter 2nd number\u001b[39m\u001b[33m\"\u001b[39m))    \u001b[38;5;66;03m#wrapping the int(input(...)) lines inside the try\u001b[39;00m\n",
      "\u001b[31mValueError\u001b[39m: invalid literal for int() with base 10: ''"
     ]
    }
   ],
   "source": [
    "a=int(input(\"enter a number\"))\n",
    "\n",
    "try:\n",
    "    b=int(input(\"enter 2nd number\"))    #wrapping the int(input(...)) lines inside the try\n",
    "    div=a/b\n",
    "    print(div)\n",
    "except ZeroDivisionError:\n",
    "    print(\"zero is not allowed \")\n",
    "except ValueError:\n",
    "    print(\"invaid  value  \")\n",
    "\n"
   ]
  },
  {
   "cell_type": "code",
   "execution_count": null,
   "id": "bfd72b08",
   "metadata": {},
   "outputs": [
    {
     "name": "stdout",
     "output_type": "stream",
     "text": [
      "result 0.5\n",
      "excution is complect \n"
     ]
    }
   ],
   "source": [
    "# else \n",
    "# finally \n",
    "\n",
    "try:\n",
    "    a=int(input(\"enter a number\"))\n",
    "    b=int(input(\"enter 2nd number\"))   \n",
    "    div=a/b\n",
    "\n",
    "except ZeroDivisionError:\n",
    "    print(\"zero is not allowed \")\n",
    "except ValueError:\n",
    "    print(\"invaid  value  \")\n",
    "else:\n",
    "    print('result',div)             # if except is not run else will run \n",
    "finally:\n",
    "    print(\"excution is complect \")\n",
    "\n",
    "\n",
    "\n"
   ]
  },
  {
   "cell_type": "code",
   "execution_count": 28,
   "id": "a9140f77",
   "metadata": {},
   "outputs": [
    {
     "name": "stdout",
     "output_type": "stream",
     "text": [
      "Error: invalid literal for int() with base 10: ''\n"
     ]
    }
   ],
   "source": [
    "#Raising Built-in exception \n",
    "try:\n",
    "    age = int(input(\"Enter your age: \"))\n",
    "    if age < 0:\n",
    "        raise ValueError(\"Age cannot be negative\")\n",
    "    print(\"your age is only \",age)\n",
    "except ValueError as e:         #to print error \n",
    "        print(\"Error:\", e)"
   ]
  },
  {
   "cell_type": "code",
   "execution_count": 33,
   "id": "0c82019b",
   "metadata": {},
   "outputs": [
    {
     "name": "stdout",
     "output_type": "stream",
     "text": [
      "error: your age cannot be negetive \n",
      "error: your age cannot be negetive \n",
      "error: your age cannot be negetive \n",
      "error: your age cannot be negetive \n",
      "error: your age cannot be negetive \n",
      "your is only  9\n"
     ]
    }
   ],
   "source": [
    "while True:\n",
    "        try:\n",
    "            age=int(input(\"enter your age \"))\n",
    "            if age<=0:\n",
    "                  raise ValueError(\"your age cannot be negetive \")\n",
    "            print(\"your is only \",age)\n",
    "            break\n",
    "        except ValueError as e:\n",
    "              print(\"error:\",e)\n",
    "              "
   ]
  }
 ],
 "metadata": {
  "kernelspec": {
   "display_name": "Python 3",
   "language": "python",
   "name": "python3"
  },
  "language_info": {
   "codemirror_mode": {
    "name": "ipython",
    "version": 3
   },
   "file_extension": ".py",
   "mimetype": "text/x-python",
   "name": "python",
   "nbconvert_exporter": "python",
   "pygments_lexer": "ipython3",
   "version": "3.12.4"
  }
 },
 "nbformat": 4,
 "nbformat_minor": 5
}
