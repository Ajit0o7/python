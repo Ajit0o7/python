{
 "cells": [
  {
   "cell_type": "markdown",
   "id": "cb90bad6",
   "metadata": {},
   "source": [
    "# data structure \n",
    "## list, set, tuple, dictionary \n",
    "build-in data types  \n",
    "collection of elemet \n",
    "sequence \n",
    "\n",
    "id=() tuple \n",
    "id=[] list \n",
    "id={} set, dictionary\n"
   ]
  },
  {
   "cell_type": "markdown",
   "id": "8c2f3b52",
   "metadata": {},
   "source": [
    "# list operation\n",
    "## 1. indexing\n",
    "## 2. sclicing\n",
    "\n"
   ]
  },
  {
   "cell_type": "code",
   "execution_count": null,
   "id": "25e263d5",
   "metadata": {},
   "outputs": [],
   "source": [
    "#indexing\n",
    "id=[15,6,7,8,6]\n",
    "print(id[2])\n",
    "\n",
    "\n",
    "#change the specific value\n",
    "id[2]=2\n",
    "print(id)"
   ]
  },
  {
   "cell_type": "code",
   "execution_count": 12,
   "id": "3f10f8a4",
   "metadata": {},
   "outputs": [
    {
     "name": "stdout",
     "output_type": "stream",
     "text": [
      "[6, 9, 7]\n"
     ]
    }
   ],
   "source": [
    "#scling         #syntax : list[start_index: stop_index]\n",
    "                #syntax : list[start_index: stop_index: step]\n",
    "id=[5,6,8,9,5,7]\n",
    "\n",
    "print(id[1: :2])\n",
    "\n",
    "\n",
    "\n",
    "\n",
    "\n"
   ]
  },
  {
   "cell_type": "markdown",
   "id": "2a6b531f",
   "metadata": {},
   "source": [
    "#  insert \n",
    ".append(x)\n",
    ".extend([x,y])\n",
    ".insert(i,x)\n",
    "concatenation +"
   ]
  },
  {
   "cell_type": "code",
   "execution_count": 16,
   "id": "95d1b6c0",
   "metadata": {},
   "outputs": [
    {
     "name": "stdout",
     "output_type": "stream",
     "text": [
      "[1, 2, 3, 5, 6, 7, 8, 10]\n"
     ]
    }
   ],
   "source": [
    "#append()\n",
    "id=[1,2,3,5,6,7,8]\n",
    "id.append(10)\n",
    "print(id)"
   ]
  },
  {
   "cell_type": "code",
   "execution_count": 20,
   "id": "2f81eea2",
   "metadata": {},
   "outputs": [
    {
     "name": "stdout",
     "output_type": "stream",
     "text": [
      "[1, 2, 3, 5, 6, 7]\n",
      "[2, 3, 5, 6]\n"
     ]
    }
   ],
   "source": [
    "#extend\n",
    "id=[1,2,3,]\n",
    "roll_no=[5 ,6,7]\n",
    "id.extend(roll_no)\n",
    "print(id)\n",
    "\n",
    "print(id[1:5])"
   ]
  },
  {
   "cell_type": "code",
   "execution_count": 27,
   "id": "aa97e8cc",
   "metadata": {},
   "outputs": [
    {
     "name": "stdout",
     "output_type": "stream",
     "text": [
      "[1, 5, 2, 4, 6, 7, 9]\n"
     ]
    }
   ],
   "source": [
    "#insert\n",
    "id=[1,2,4,6,7,9]\n",
    "id.insert(1,5)\n",
    "print(id)"
   ]
  },
  {
   "cell_type": "markdown",
   "id": "1cdb1792",
   "metadata": {},
   "source": [
    "# remove elements\n",
    ".remove\n",
    ".pop\n",
    ".clear"
   ]
  },
  {
   "cell_type": "code",
   "execution_count": null,
   "id": "05052aed",
   "metadata": {},
   "outputs": [
    {
     "name": "stdout",
     "output_type": "stream",
     "text": [
      "[1, 2, 3, 4]\n"
     ]
    }
   ],
   "source": [
    "#remove # this remove the same element from the list\n",
    "id=[1,2,3,4,5]\n",
    "id.remove(5)\n",
    "print(id)"
   ]
  },
  {
   "cell_type": "code",
   "execution_count": 38,
   "id": "babadd18",
   "metadata": {},
   "outputs": [
    {
     "data": {
      "text/plain": [
       "[1, 3, 4, 5, 6, 6]"
      ]
     },
     "execution_count": 38,
     "metadata": {},
     "output_type": "execute_result"
    }
   ],
   "source": [
    "#pop   #this remove the specific element by the index value from the list\n",
    "id=[1,2,3,4,5,6,6]\n",
    "id.pop(1)\n",
    "id"
   ]
  },
  {
   "cell_type": "code",
   "execution_count": 40,
   "id": "cc9c638b",
   "metadata": {},
   "outputs": [
    {
     "name": "stdout",
     "output_type": "stream",
     "text": [
      "[]\n"
     ]
    }
   ],
   "source": [
    "#clear   clear the list\n",
    "id=[1,2,3,4,5]\n",
    "id.clear()\n",
    "print(id)"
   ]
  },
  {
   "cell_type": "markdown",
   "id": "a8fdf927",
   "metadata": {},
   "source": [
    "# other function\n"
   ]
  },
  {
   "cell_type": "code",
   "execution_count": null,
   "id": "92579f54",
   "metadata": {},
   "outputs": [
    {
     "name": "stdout",
     "output_type": "stream",
     "text": [
      "[78, 6, 5, 4, 23, 1]\n"
     ]
    }
   ],
   "source": [
    "#reverse  # reverse the element in the list\n",
    "id=[1,23,4,5,6,78,]\n",
    "id.reverse()\n",
    "print(id)\n"
   ]
  },
  {
   "cell_type": "code",
   "execution_count": 51,
   "id": "c376c311",
   "metadata": {},
   "outputs": [
    {
     "name": "stdout",
     "output_type": "stream",
     "text": [
      "[1, 4, 5, 6, 23, 78]\n",
      "[78, 23, 6, 5, 4, 1]\n"
     ]
    }
   ],
   "source": [
    "#.sort \n",
    "id=[1,23,4,5,6,78,]\n",
    "id.sort()\n",
    "\n",
    "print(id)\n",
    "#we can used reverse=true to reverse element in list\n",
    "id.sort(reverse=True)\n",
    "print(id)"
   ]
  },
  {
   "cell_type": "code",
   "execution_count": 57,
   "id": "c104ba8a",
   "metadata": {},
   "outputs": [
    {
     "data": {
      "text/plain": [
       "4"
      ]
     },
     "execution_count": 57,
     "metadata": {},
     "output_type": "execute_result"
    }
   ],
   "source": [
    "#count\n",
    "id=[1,2,4,5,7,1,1,1]\n",
    "id.count(1)\n",
    "#no need to print\n",
    "\n"
   ]
  },
  {
   "cell_type": "code",
   "execution_count": 58,
   "id": "df5030f3",
   "metadata": {},
   "outputs": [],
   "source": [
    "#len(xy)\n",
    "#max()\n",
    "#min()\n",
    "#sum()\n",
    "#sorted()\n",
    "id=[1,2,3,4,5,6,7,7,8,9,6,7,8]\n"
   ]
  },
  {
   "cell_type": "markdown",
   "id": "60b5e6b4",
   "metadata": {},
   "source": [
    "# TUPLE \n",
    "immutable\n"
   ]
  },
  {
   "cell_type": "code",
   "execution_count": 65,
   "id": "bebf4598",
   "metadata": {},
   "outputs": [
    {
     "data": {
      "text/plain": [
       "(4,)"
      ]
     },
     "execution_count": 65,
     "metadata": {},
     "output_type": "execute_result"
    }
   ],
   "source": [
    "#indexing and sclicing # tuple is denoted by small bracket\n",
    "\n",
    "id=(2,4,5,6,7)\n",
    "id[1:2]\n"
   ]
  },
  {
   "cell_type": "code",
   "execution_count": 66,
   "id": "9be59c83",
   "metadata": {},
   "outputs": [],
   "source": [
    "#creating a tuple\n",
    "#accessing a element \n",
    "#sclicing a tuple\n",
    "#cancatenation\n",
    "#Repeating a tuple\n",
    "#unpack a tuple\n",
    "#tuple methods(.count(x) ,.index(x))\n",
    "#checking membership\n"
   ]
  },
  {
   "cell_type": "code",
   "execution_count": null,
   "id": "e2ce43b1",
   "metadata": {},
   "outputs": [
    {
     "data": {
      "text/plain": [
       "(1, 2, 3, 4, 5, 6, 8, 9, 7, 6)"
      ]
     },
     "execution_count": 69,
     "metadata": {},
     "output_type": "execute_result"
    }
   ],
   "source": [
    "#concatenation\n",
    "id=(1,2,3,4,5,6)\n",
    "roll_no=(8,9,7,6)\n",
    "z=id+roll_no\n",
    "z"
   ]
  },
  {
   "cell_type": "code",
   "execution_count": 72,
   "id": "4fb43705",
   "metadata": {},
   "outputs": [
    {
     "data": {
      "text/plain": [
       "(4, 5, 6, 4, 5, 6, 4, 5, 6)"
      ]
     },
     "execution_count": 72,
     "metadata": {},
     "output_type": "execute_result"
    }
   ],
   "source": [
    "#repeating a tuple\n",
    "id=(4,5,6)\n",
    "id=3*id\n",
    "id"
   ]
  },
  {
   "cell_type": "markdown",
   "id": "5e13a189",
   "metadata": {},
   "source": [
    "#unpacking\n",
    "(1,2,3)\n",
    "x,y,z=(1,2,3)\n",
    "x"
   ]
  },
  {
   "cell_type": "code",
   "execution_count": null,
   "id": "e717ca10",
   "metadata": {},
   "outputs": [
    {
     "name": "stdout",
     "output_type": "stream",
     "text": [
      "2\n",
      "1\n"
     ]
    }
   ],
   "source": [
    "#tuple  method(count(),index())\n",
    "\n",
    "id=(1,2,3,4,50,1)\n",
    "counting=id.count(1)\n",
    "print(counting)\n",
    "indexing=id.bindex(2)\n",
    "print(indexing)"
   ]
  },
  {
   "cell_type": "code",
   "execution_count": 88,
   "id": "7d56c768",
   "metadata": {},
   "outputs": [
    {
     "name": "stdout",
     "output_type": "stream",
     "text": [
      "False\n",
      "False\n"
     ]
    }
   ],
   "source": [
    "#membership\n",
    "id=(1,2,3,4,5,6,\"ram\")\n",
    "print(9 in id )\n",
    "print(\"ram \" in id)\n",
    "\n"
   ]
  },
  {
   "cell_type": "markdown",
   "id": "500e9211",
   "metadata": {},
   "source": [
    "# set\n",
    ". mutable\n",
    ".unorder\n",
    ".doesn't allowed dublicated\n",
    ". mutable"
   ]
  },
  {
   "cell_type": "markdown",
   "id": "d230601f",
   "metadata": {},
   "source": [
    "#dictionary \n",
    "#function\n"
   ]
  },
  {
   "cell_type": "code",
   "execution_count": 3,
   "id": "dbefd7e7",
   "metadata": {},
   "outputs": [
    {
     "name": "stdout",
     "output_type": "stream",
     "text": [
      "{1, 2, 3, 4, 5, 6, 9}\n"
     ]
    }
   ],
   "source": [
    "#set operation \n",
    "#add\n",
    "id={1,2,3,4,5,6}\n",
    "id.add(9)\n",
    "print(id)"
   ]
  },
  {
   "cell_type": "code",
   "execution_count": 7,
   "id": "046ae815",
   "metadata": {},
   "outputs": [
    {
     "name": "stdout",
     "output_type": "stream",
     "text": [
      "{1, 2, 3, 4, 5, 6, 8, 9, 10}\n"
     ]
    }
   ],
   "source": [
    "#update\n",
    "id={1,2,3,4,5,6}\n",
    "roll_no={8,9,10}\n",
    "id.update(roll_no)\n",
    "print(id)"
   ]
  },
  {
   "cell_type": "code",
   "execution_count": 10,
   "id": "bd839860",
   "metadata": {},
   "outputs": [
    {
     "name": "stdout",
     "output_type": "stream",
     "text": [
      "{1, 3, 4}\n"
     ]
    }
   ],
   "source": [
    "#remove\n",
    "set1={1,2,3,4}\n",
    "set1.remove(2)\n",
    "print(set1)"
   ]
  },
  {
   "cell_type": "code",
   "execution_count": 12,
   "id": "49e107ea",
   "metadata": {},
   "outputs": [
    {
     "name": "stdout",
     "output_type": "stream",
     "text": [
      "{1, 3, 4}\n"
     ]
    }
   ],
   "source": [
    "#discard  #same like remove but ignore error if theelement is not in set\n",
    "set1={1,2,3,4}\n",
    "set1.discard(2)\n",
    "print(set1)"
   ]
  },
  {
   "cell_type": "code",
   "execution_count": 15,
   "id": "8fba73b6",
   "metadata": {},
   "outputs": [
    {
     "name": "stdout",
     "output_type": "stream",
     "text": [
      "{2, 3, 4}\n"
     ]
    }
   ],
   "source": [
    "#using_pop  remove 1st element from the list\n",
    "set1={1,2,3,4}\n",
    "set1.pop()\n",
    "print(set1)"
   ]
  },
  {
   "cell_type": "code",
   "execution_count": 41,
   "id": "2ad7c805",
   "metadata": {},
   "outputs": [
    {
     "name": "stdout",
     "output_type": "stream",
     "text": [
      "set()\n"
     ]
    }
   ],
   "source": [
    "#clear() clear all the set \n",
    "set1={1,2,3,4}\n",
    "set1.clear()\n",
    "print(set1)"
   ]
  },
  {
   "cell_type": "markdown",
   "id": "424529f4",
   "metadata": {},
   "source": [
    "#set , union difference , intersection()\n"
   ]
  },
  {
   "cell_type": "code",
   "execution_count": null,
   "id": "67d11147",
   "metadata": {},
   "outputs": [
    {
     "name": "stdout",
     "output_type": "stream",
     "text": [
      "{1, 2, 3, 4, 5, 6, 7, 8, 9}\n"
     ]
    }
   ],
   "source": [
    "#union\n",
    "set1={1,2,3,4,5}\n",
    "set2={2,6,7,8,9}\n",
    "set3=set1.union(set2)\n",
    "print(set3)"
   ]
  },
  {
   "cell_type": "code",
   "execution_count": 55,
   "id": "dccbbfff",
   "metadata": {},
   "outputs": [
    {
     "name": "stdout",
     "output_type": "stream",
     "text": [
      "{2}\n",
      "{2}\n"
     ]
    }
   ],
   "source": [
    "#intersection ()\n",
    "set1={1,2,3,4,5}\n",
    "set2={2,6,7,8,9}\n",
    "set3=set1.intersection(set2)\n",
    "print(set3)\n",
    "#another proecsss we can used  \"&\" operator \n",
    "set3=set1&set2 \n",
    "print(set3)"
   ]
  },
  {
   "cell_type": "code",
   "execution_count": 57,
   "id": "a0964632",
   "metadata": {},
   "outputs": [
    {
     "name": "stdout",
     "output_type": "stream",
     "text": [
      "{1, 3, 4, 5}\n",
      "{1, 3, 4, 5}\n"
     ]
    }
   ],
   "source": [
    "#difference()\n",
    "set1={1,2,3,4,5}\n",
    "set2={2,6,7,8,9}\n",
    "set3=set1.difference(set2)\n",
    "print(set3)\n",
    "#another process\n",
    "set1={1,2,3,4,5}\n",
    "set2={2,6,7,8,9}\n",
    "set3=set1-set2\n",
    "print(set3)"
   ]
  },
  {
   "cell_type": "markdown",
   "id": "b085affe",
   "metadata": {},
   "source": [
    "# dictionary \n",
    " #### syntax  dis=key : \"value\",\n",
    "\n",
    "####             key-2: \"value\""
   ]
  },
  {
   "cell_type": "code",
   "execution_count": 42,
   "id": "fe179de9",
   "metadata": {},
   "outputs": [
    {
     "name": "stdout",
     "output_type": "stream",
     "text": [
      "{'name ': 'ajit', 'id': 10}\n",
      "<class 'dict'>\n"
     ]
    }
   ],
   "source": [
    "dis={\n",
    "    \"name \": \"ajit\" ,\n",
    "    'id' :10\n",
    "}\n",
    "print(dis)\n",
    "print(type(dis))"
   ]
  },
  {
   "cell_type": "code",
   "execution_count": 43,
   "id": "9cbfd40e",
   "metadata": {},
   "outputs": [
    {
     "name": "stdout",
     "output_type": "stream",
     "text": [
      "dict_keys(['name', 'id'])\n"
     ]
    }
   ],
   "source": [
    "#key dis.keys()\n",
    "dis={\n",
    "    'name': 'ajit',\n",
    "    'id': '20'\n",
    "}\n",
    "print(dis.keys())"
   ]
  },
  {
   "cell_type": "code",
   "execution_count": 44,
   "id": "8ad23adf",
   "metadata": {},
   "outputs": [
    {
     "name": "stdout",
     "output_type": "stream",
     "text": [
      "dict_items([('name', 'ajit'), ('id', '20')])\n"
     ]
    }
   ],
   "source": [
    "#.items() is used to show what iteam are in the dictionary \n",
    "print(dis.items())"
   ]
  },
  {
   "cell_type": "code",
   "execution_count": 45,
   "id": "9563f9db",
   "metadata": {},
   "outputs": [
    {
     "name": "stdout",
     "output_type": "stream",
     "text": [
      "dict_values(['ajit', '20'])\n"
     ]
    }
   ],
   "source": [
    "# .values() is used to show key values \n",
    "print(dis.values())"
   ]
  },
  {
   "cell_type": "code",
   "execution_count": 46,
   "id": "406f6c7d",
   "metadata": {},
   "outputs": [
    {
     "name": "stdout",
     "output_type": "stream",
     "text": [
      "20\n"
     ]
    }
   ],
   "source": [
    "#used to acces value by key index\n",
    "print(dis['id'])"
   ]
  },
  {
   "cell_type": "code",
   "execution_count": 2,
   "id": "3c441af6",
   "metadata": {},
   "outputs": [
    {
     "name": "stdout",
     "output_type": "stream",
     "text": [
      "[1, 2, 3, 4, 5]\n"
     ]
    }
   ],
   "source": [
    "# 1.remove dublicate element from a list\n",
    "my_list = [1, 2, 2, 3, 4, 4, 5]\n",
    "unique_list = list(set(my_list))\n",
    "print(unique_list) \n",
    "\n"
   ]
  },
  {
   "cell_type": "code",
   "execution_count": 3,
   "id": "bd444dc9",
   "metadata": {},
   "outputs": [
    {
     "name": "stdout",
     "output_type": "stream",
     "text": [
      "Second largest: 45\n"
     ]
    }
   ],
   "source": [
    "# find the second largest element from the list\n",
    "\n",
    "#. Using sorted()\n",
    "nums = [10, 20, 4, 45, 99]\n",
    "unique_nums = list(set(nums))  # Remove duplicates\n",
    "unique_nums.sort()             # Sort in ascending order\n",
    "second_largest = unique_nums[-2]\n",
    "print(\"Second largest:\", second_largest)  # Output: 45\n"
   ]
  },
  {
   "cell_type": "code",
   "execution_count": 5,
   "id": "5c5b8ea6",
   "metadata": {},
   "outputs": [
    {
     "name": "stdout",
     "output_type": "stream",
     "text": [
      "Counter({4: 3, 2: 2, 1: 1, 3: 1, 5: 1})\n"
     ]
    }
   ],
   "source": [
    "#count frequency of the list \n",
    "from collections import Counter\n",
    "\n",
    "my_list = [1, 2, 2, 3, 4, 4, 4, 5]\n",
    "freq = Counter(my_list)\n",
    "print(freq)\n",
    "# Output: Counter({4: 3, 2: 2, 1: 1, 3: 1, 5: 1})\n"
   ]
  },
  {
   "cell_type": "code",
   "execution_count": 6,
   "id": "d2b55456",
   "metadata": {},
   "outputs": [
    {
     "name": "stdout",
     "output_type": "stream",
     "text": [
      "Common elements: [4, 5]\n"
     ]
    }
   ],
   "source": [
    "# find the common  two element from the list\n",
    "list1 = [1, 2, 3, 4, 5]\n",
    "list2 = [4, 5, 6, 7, 8]\n",
    "\n",
    "common = list(set(list1) & set(list2))\n",
    "print(\"Common elements:\", common)\n",
    "# Output: [4, 5]\n"
   ]
  },
  {
   "cell_type": "code",
   "execution_count": null,
   "id": "5bf22fe3",
   "metadata": {},
   "outputs": [],
   "source": [
    "# student score tracker \n",
    " # use a list of tuples to store student name and score\n",
    "   #  add new entities , find the average, highest, and lowest .\n",
    "# List to store student (name, score)\n",
    "students = []\n",
    "\n",
    "# Add students\n",
    "students.append((\"Ajit\", 85))\n",
    "students.append((\"Rita\", 92))\n",
    "students.append((\"Suman\", 74))\n",
    "students.append((\"Laxmi\", 88))\n",
    "\n",
    "# Find average\n",
    "total = 0\n",
    "for student in students:\n",
    "    total += student[1]\n",
    "\n",
    "average = total / len(students)\n",
    "\n",
    "# Find highest and lowest\n",
    "highest = max(students, key=lambda x: x[1])\n",
    "lowest = min(students, key=lambda x: x[1])\n",
    "\n",
    "# Output\n",
    "print(\"All students:\", students)\n",
    "print(\"Average score:\", average)\n",
    "print(\"Highest scorer:\", highest)\n",
    "print(\"Lowest scorer:\", lowest)\n"
   ]
  }
 ],
 "metadata": {
  "kernelspec": {
   "display_name": "Python 3",
   "language": "python",
   "name": "python3"
  },
  "language_info": {
   "codemirror_mode": {
    "name": "ipython",
    "version": 3
   },
   "file_extension": ".py",
   "mimetype": "text/x-python",
   "name": "python",
   "nbconvert_exporter": "python",
   "pygments_lexer": "ipython3",
   "version": "3.12.4"
  }
 },
 "nbformat": 4,
 "nbformat_minor": 5
}
