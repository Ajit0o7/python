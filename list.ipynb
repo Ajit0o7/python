{
 "cells": [
  {
   "cell_type": "code",
   "execution_count": null,
   "id": "4ceb30ca",
   "metadata": {},
   "outputs": [],
   "source": [
    "#write a program to print the sun of all digits of user input number\n",
    "sum=0\n",
    "num=int(input(\"enter the number\"))   \n",
    "while(num>0):\n",
    "    rem=num%10\n",
    "    num=num//10\n",
    "    sum=sum+rem\n",
    "            \n",
    "print(\"the sum is \",sum)\n",
    "\n"
   ]
  },
  {
   "cell_type": "code",
   "execution_count": 18,
   "id": "ad058797",
   "metadata": {},
   "outputs": [
    {
     "name": "stdout",
     "output_type": "stream",
     "text": [
      "sum is  6\n"
     ]
    }
   ],
   "source": [
    "number=list(input(\"enter a number\"))\n",
    "sum=0\n",
    "\n",
    "for i in number:\n",
    "    sum=sum+int(i)\n",
    "print(\"sum is \",sum)"
   ]
  },
  {
   "cell_type": "markdown",
   "id": "f653a6bf",
   "metadata": {},
   "source": [
    "# else in for "
   ]
  },
  {
   "cell_type": "markdown",
   "id": "6db29f78",
   "metadata": {},
   "source": [
    "x=[1,2,3,4,5,6,]\n",
    "for in x:\n",
    "    if(i==8):\n",
    "        print(\"found\")\n",
    "        break\n",
    "else:\n",
    "print(\"not found\")"
   ]
  },
  {
   "cell_type": "code",
   "execution_count": null,
   "id": "b79ca64a",
   "metadata": {},
   "outputs": [],
   "source": [
    "\n",
    "x=[1,2,3,4,5,6,]\n",
    "for i in x: \n",
    "    if(i==8):\n",
    "        print(\"found\")\n",
    "        break\n",
    "else:\n",
    "    print(\"not found\")\n"
   ]
  },
  {
   "cell_type": "code",
   "execution_count": null,
   "id": "9a52eea4",
   "metadata": {},
   "outputs": [],
   "source": [
    "#prime number\n",
    "n=7\n",
    "for i in range(2,7):\n",
    "    if(n%i==0):\n",
    "        print(\"not prime\")\n",
    "        break\n",
    "else:\n",
    "        print(\"prime\")   "
   ]
  },
  {
   "cell_type": "markdown",
   "id": "5fdfd2fe",
   "metadata": {},
   "source": [
    "se"
   ]
  }
 ],
 "metadata": {
  "kernelspec": {
   "display_name": "Python 3",
   "language": "python",
   "name": "python3"
  },
  "language_info": {
   "codemirror_mode": {
    "name": "ipython",
    "version": 3
   },
   "file_extension": ".py",
   "mimetype": "text/x-python",
   "name": "python",
   "nbconvert_exporter": "python",
   "pygments_lexer": "ipython3",
   "version": "3.12.4"
  }
 },
 "nbformat": 4,
 "nbformat_minor": 5
}
