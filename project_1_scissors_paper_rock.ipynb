{
 "cells": [
  {
   "cell_type": "markdown",
   "id": "b119eba8",
   "metadata": {},
   "source": [
    "# project 1\n"
   ]
  },
  {
   "cell_type": "code",
   "execution_count": null,
   "id": "cd3e321e",
   "metadata": {},
   "outputs": [
    {
     "name": "stdout",
     "output_type": "stream",
     "text": [
      "computer choice is  rock\n",
      "you win \n"
     ]
    }
   ],
   "source": [
    "import random\n",
    "choice_1=0\n",
    "while(choice_1=\"yes\"):\n",
    "choices=[\"scissors\",\"paper\",\"rock\"]\n",
    "user=input(\"enter your choice\")\n",
    "computer=random.choice(choices)\n",
    "print(\"computer choice is \",computer)\n",
    "if (user==computer):\n",
    "    print(\"its tie\")\n",
    "elif  (user==\"rock\"and computer==\"scissors\") or \\\n",
    "    (user==\"paper\" and computer==\"rock\") or \\\n",
    "    (user==\"scissors \" and computer==\"paper\"):\n",
    "    print(\"you win \") \n",
    "else:\n",
    "    print(\"you lose\")\n",
    "\n",
    "print(\"do you want to play again\")\n",
    "input=(\"if yes type yes other wise no \")\n",
    "\n"
   ]
  },
  {
   "cell_type": "markdown",
   "id": "05d54f5f",
   "metadata": {},
   "source": []
  }
 ],
 "metadata": {
  "kernelspec": {
   "display_name": "Python 3",
   "language": "python",
   "name": "python3"
  },
  "language_info": {
   "codemirror_mode": {
    "name": "ipython",
    "version": 3
   },
   "file_extension": ".py",
   "mimetype": "text/x-python",
   "name": "python",
   "nbconvert_exporter": "python",
   "pygments_lexer": "ipython3",
   "version": "3.12.4"
  }
 },
 "nbformat": 4,
 "nbformat_minor": 5
}
